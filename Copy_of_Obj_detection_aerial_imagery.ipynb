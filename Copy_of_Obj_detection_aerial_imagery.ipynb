{
  "nbformat": 4,
  "nbformat_minor": 0,
  "metadata": {
    "accelerator": "GPU",
    "colab": {
      "name": "Copy of Obj_detection_aerial_imagery.ipynb",
      "provenance": [],
      "collapsed_sections": [],
      "private_outputs": true,
      "include_colab_link": true
    },
    "kernelspec": {
      "display_name": "Python 3",
      "name": "python3"
    },
    "language_info": {
      "name": "python"
    }
  },
  "cells": [
    {
      "cell_type": "markdown",
      "metadata": {
        "id": "view-in-github",
        "colab_type": "text"
      },
      "source": [
        "<a href=\"https://colab.research.google.com/github/kangs02/nodes-wheather-app-website/blob/main/Copy_of_Obj_detection_aerial_imagery.ipynb\" target=\"_parent\"><img src=\"https://colab.research.google.com/assets/colab-badge.svg\" alt=\"Open In Colab\"/></a>"
      ]
    },
    {
      "cell_type": "code",
      "metadata": {
        "id": "hOslgK4YykEm"
      },
      "source": [
        "#GPU count and name\n",
        "!nvidia-smi -L"
      ],
      "execution_count": null,
      "outputs": []
    },
    {
      "cell_type": "code",
      "metadata": {
        "id": "y7kX6grLyqKf"
      },
      "source": [
        "!pip install Keras==2.7.0rc2"
      ],
      "execution_count": null,
      "outputs": []
    },
    {
      "cell_type": "code",
      "metadata": {
        "id": "2TqnKYJAyqOF"
      },
      "source": [
        "!python -c 'import keras; print(keras.__version__)'"
      ],
      "execution_count": null,
      "outputs": []
    },
    {
      "cell_type": "code",
      "metadata": {
        "id": "MT7KXkuoyqQ_"
      },
      "source": [
        "from google.colab import drive\n",
        "drive.mount('/content/drive')"
      ],
      "execution_count": null,
      "outputs": []
    },
    {
      "cell_type": "code",
      "metadata": {
        "id": "PHtkBT4uyqT4"
      },
      "source": [
        "!unzip /content/drive/MyDrive/RetinanetTest/data.zip -d /content"
      ],
      "execution_count": null,
      "outputs": []
    },
    {
      "cell_type": "code",
      "metadata": {
        "id": "9MJtlxSqyqXi"
      },
      "source": [
        "import os\n",
        "\n",
        "repo_url = 'https://github.com/fizyr/keras-retinanet'\n",
        "repo_dir_path = os.path.abspath(os.path.join('.', os.path.basename(repo_url))) \n",
        "\n",
        "!git clone {repo_url} # clone repo"
      ],
      "execution_count": null,
      "outputs": []
    },
    {
      "cell_type": "code",
      "metadata": {
        "id": "bmMafK19yqvX"
      },
      "source": [
        "# from /content/keras-retinanet\n",
        "%cd {repo_dir_path} \n",
        "!pip install .\n",
        "!python setup.py build_ext --inplace\n",
        "\n",
        "%cd .."
      ],
      "execution_count": null,
      "outputs": []
    },
    {
      "cell_type": "code",
      "metadata": {
        "id": "NRAJ4ErcyqyF"
      },
      "source": [
        "ije_repo_url = 'https://github.com/ijeism/ije_retinanet'\n",
        "ije_repo_dir_path = os.path.abspath(os.path.join('.', os.path.basename(ije_repo_url))) \n",
        "\n",
        "!git clone {ije_repo_url} # clone repo\n",
        "# %cd {ije_repo_dir_path} \n",
        "# !git pull # pull repo"
      ],
      "execution_count": null,
      "outputs": []
    },
    {
      "cell_type": "code",
      "metadata": {
        "id": "frXK8KeMyq05"
      },
      "source": [
        "import os\n",
        "base_dir = os.getcwd()\n",
        "#base_dir='/content'\n",
        "base_dir"
      ],
      "execution_count": null,
      "outputs": []
    },
    {
      "cell_type": "code",
      "metadata": {
        "id": "atwKbnhsyq4R"
      },
      "source": [
        "# select subsample of N for initial training\n",
        "\n",
        "from shutil import copyfile\n",
        "import random\n",
        "\n",
        "# determine number for subsample\n",
        "NUM = 80\n",
        "#NUM=100\n",
        "# create dir for subsample\n",
        "sub_dir = base_dir + '/drive/MyDrive/RetinanetTest/images_subset/'\n",
        "!mkdir {sub_dir}\n",
        "\n",
        "image_dir = base_dir + '/data/training_data/training_data/images/'\n",
        "image_paths = os.listdir(image_dir)\n",
        "random_NUM = random.sample(image_paths, NUM) # randomly select subsample \n",
        "\n",
        "# copy subsample into subsample dir\n",
        "for i in random_NUM:\n",
        "    copyfile(image_dir + i, sub_dir + i )"
      ],
      "execution_count": null,
      "outputs": []
    },
    {
      "cell_type": "code",
      "metadata": {
        "id": "Gpz9H5lJyq7N"
      },
      "source": [
        "%cd /content/drive/MyDrive/RetinanetTest/images_subset/\n",
        "!ls -F |grep -v / | wc -l"
      ],
      "execution_count": null,
      "outputs": []
    },
    {
      "cell_type": "code",
      "metadata": {
        "id": "0T57iHG8yq97"
      },
      "source": [
        "!python /content/ije_retinanet/build_dataset.py \\\n",
        "-l /content/data/training_data/training_data/labels/ \\\n",
        "-i /content/drive/MyDrive/RetinanetTest/images_subset/ \\\n",
        "-r /content/drive/MyDrive/RetinanetTest/images_subset/train.csv \\\n",
        "-e /content/drive/MyDrive/RetinanetTest/images_subset/test.csv \\\n",
        "-c /content/drive/MyDrive/RetinanetTest/images_subset/classes.csv "
      ],
      "execution_count": null,
      "outputs": []
    },
    {
      "cell_type": "code",
      "metadata": {
        "id": "tfrfsilCyrA8"
      },
      "source": [
        "import urllib.request\n",
        "\n",
        "PRETRAINED_MODEL = '/content/keras-retinanet/snapshots/resnet50_coco_best_v2.1.0.h5'\n",
        "\n",
        "URL_MODEL = 'https://github.com/fizyr/keras-retinanet/releases/download/0.5.1/resnet50_coco_best_v2.1.0.h5'\n",
        "\n",
        "urllib.request.urlretrieve(URL_MODEL, PRETRAINED_MODEL)"
      ],
      "execution_count": null,
      "outputs": []
    },
    {
      "cell_type": "code",
      "metadata": {
        "id": "HNz4ckpyyrDl"
      },
      "source": [
        "!wc -l /content/drive/MyDrive/RetinanetTest/images_subset/train.csv"
      ],
      "execution_count": null,
      "outputs": []
    },
    {
      "cell_type": "code",
      "metadata": {
        "id": "jDJAAAiG05aD"
      },
      "source": [
        "# compute number of annotations to compute number of steps per epoch\n",
        "\n",
        "import pandas as pd\n",
        "import math\n",
        "\n",
        "df = pd.read_csv('/content/drive/MyDrive/RetinanetTest/images_subset/train.csv', header=None)\n",
        "count = len(df)\n",
        "#no_steps = math.ceil(count//32)\n",
        "\n",
        "#hard coded because formula is failing --- FIND SOLUTION\n",
        "no_steps=20\n",
        "\n",
        "print(\"Count of annotations: {}\".format(count))\n",
        "print(\"Number of steps per epoch: {}\".format(no_steps))"
      ],
      "execution_count": null,
      "outputs": []
    },
    {
      "cell_type": "code",
      "metadata": {
        "id": "h6IIz23205ct"
      },
      "source": [
        "!mkdir /content/run_1/\n",
        "%cd /content/run_1/\n",
        "\n",
        "!python /content/keras-retinanet/keras_retinanet/bin/train.py \\\n",
        "--freeze-backbone \\\n",
        "--random-transform \\\n",
        "--weights {PRETRAINED_MODEL} \\\n",
        "--weighted-average \\\n",
        "--batch-size 20 \\\n",
        "--steps {no_steps} \\\n",
        "--epochs 5 \\\n",
        "csv '/content/drive/MyDrive/RetinanetTest/images_subset/train.csv' '/content/drive/MyDrive/RetinanetTest/images_subset/classes.csv'"
      ],
      "execution_count": null,
      "outputs": []
    },
    {
      "cell_type": "code",
      "metadata": {
        "id": "rfw9niu905fH"
      },
      "source": [
        "# path to trained weights\n",
        "model_1_path = os.path.join('/content/run_1/snapshots/', sorted(os.listdir('/content/run_1/snapshots/'), reverse=True)[0])\n",
        "print(model_1_path)\n",
        "\n",
        "# evaluate model on test.csv\n",
        "!python /content/keras-retinanet/keras_retinanet/bin/evaluate.py \\\n",
        "csv '/content/drive/MyDrive/RetinanetTest/images_subset/test.csv' \\\n",
        "'/content/drive/MyDrive/RetinanetTest/images_subset/classes.csv' \\\n",
        "{model_1_path} --convert-model\n",
        "\n",
        "%cd .."
      ],
      "execution_count": null,
      "outputs": []
    },
    {
      "cell_type": "code",
      "metadata": {
        "id": "VfbAfKE805jU"
      },
      "source": [
        "#run it if pretrained model in present\n",
        "model_name='resnet50_csv_40.h5'\n",
        "model_1_path = '/content/drive/MyDrive/RetinanetTest/model/'+model_name\n",
        "print(model_1_path)\n",
        "\n",
        "# evaluate model on test.csv\n",
        "!python /content/keras-retinanet/keras_retinanet/bin/evaluate.py \\\n",
        "csv '/content/drive/MyDrive/RetinanetTest/images_subset/test.csv' \\\n",
        "'/content/drive/MyDrive/RetinanetTest/images_subset/classes.csv' \\\n",
        "{model_1_path} --convert-model\n",
        "\n",
        "%cd .."
      ],
      "execution_count": null,
      "outputs": []
    },
    {
      "cell_type": "code",
      "metadata": {
        "id": "ynGXAl6s05lu"
      },
      "source": [
        "# create directory with selected test images \n",
        "\n",
        "!mkdir /content/data/test_data_images/test_data_images/test\n",
        "!mv -t /content/data/test_data_images/test_data_images/test \\\n",
        "/content/data/test_data_images/test_data_images/images/0000006_00159_d_0000001.jpg \\\n",
        "/content/data/test_data_images/test_data_images/images/0000006_06773_d_0000018.jpg \\\n",
        "/content/data/test_data_images/test_data_images/images/0000011_00234_d_0000001.jpg \\\n",
        "/content/data/test_data_images/test_data_images/images/0000063_07000_d_0000008.jpg \\\n",
        "/content/data/test_data_images/test_data_images/images/0000127_01002_d_0000123.jpg \\\n",
        "/content/data/test_data_images/test_data_images/images/0000321_00000_d_0000015.jpg"
      ],
      "execution_count": null,
      "outputs": []
    },
    {
      "cell_type": "code",
      "metadata": {
        "id": "K5J1xeSz05n1"
      },
      "source": [
        "# print trained model path\n",
        "model_1_path"
      ],
      "execution_count": null,
      "outputs": []
    },
    {
      "cell_type": "code",
      "metadata": {
        "id": "ZizvdcC505p8"
      },
      "source": [
        "os.getcwd()"
      ],
      "execution_count": null,
      "outputs": []
    },
    {
      "cell_type": "code",
      "metadata": {
        "id": "qH6Rj__MyrG3"
      },
      "source": [
        "# convert trained model to inference model to be used for generating predictions\n",
        "!python /content/keras-retinanet/keras_retinanet/bin/convert_model.py '/content/run_1/snapshots/resnet50_csv_05.h5' '/content/run_1/snapshots/resnet50_csv_05_inference.h5'\n",
        "inference_model = '/content/run_1/snapshots/resnet50_csv_05_inference.h5'"
      ],
      "execution_count": null,
      "outputs": []
    },
    {
      "cell_type": "code",
      "metadata": {
        "id": "Jfq5dySI3188"
      },
      "source": [
        "# convert trained model to inference model to be used for generating predictions [for pretrained model]\n",
        "!python /content/keras-retinanet/keras_retinanet/bin/convert_model.py '/content/drive/MyDrive/RetinanetTest/model/resnet50_csv_40.h5' '/content/drive/MyDrive/RetinanetTest/model/resnet50_csv_40_inference.h5'\n",
        "inference_model = '/content/drive/MyDrive/RetinanetTest/model/resnet50_csv_40_inference.h5'"
      ],
      "execution_count": null,
      "outputs": []
    },
    {
      "cell_type": "code",
      "metadata": {
        "id": "CBECiE4W-bAI"
      },
      "source": [
        "#run to custom select inference model\n",
        "inference_model='/content/drive/MyDrive/RetinanetTest/model/resnet50_csv_40_inference.h5'"
      ],
      "execution_count": null,
      "outputs": []
    },
    {
      "cell_type": "code",
      "metadata": {
        "id": "drwwNWec32AF"
      },
      "source": [
        "# generate prediction files\n",
        "\n",
        "!python /content/ije_retinanet/image_inference_write.py \\\n",
        "-i '/content/data/test_data_images/test_data_images/test/' \\\n",
        "-t 0.3 \\\n",
        "-m {inference_model} \\\n",
        "-o  /content/data/ \\\n",
        "-l /content/drive/MyDrive/RetinanetTest/images_subset/classes.csv"
      ],
      "execution_count": null,
      "outputs": []
    },
    {
      "cell_type": "code",
      "metadata": {
        "id": "FMKuPxVh32C8"
      },
      "source": [
        "os.getcwd()"
      ],
      "execution_count": null,
      "outputs": []
    },
    {
      "cell_type": "code",
      "metadata": {
        "id": "rr7RGICz6DCn"
      },
      "source": [
        "# create output directory where you want to save images with bounding boxes\n",
        "\n",
        "#run 1st\n",
        "\n",
        "!mkdir /content/data/output\n",
        "\n",
        "# generate detections on images\n",
        "!python /content/ije_retinanet/image_inference_print.py \\\n",
        "-i /content/data/test_data_images/test_data_images/test/ \\\n",
        "-t 0.3 \\\n",
        "-m  {inference_model} \\\n",
        "-o /content/data/output"
      ],
      "execution_count": null,
      "outputs": []
    },
    {
      "cell_type": "code",
      "metadata": {
        "id": "-LQCLHRB6DF9"
      },
      "source": [
        "# combine all csv files into one\n",
        "\n",
        "#run 2nd\n",
        "\n",
        "from glob import glob\n",
        "fout=open(\"/content/data/output/out.csv\",\"a\")\n",
        "fout.write(\"path,confidence,ymin,xmin,ymax,xmax,class\\n\") # create header\n",
        "for fi in glob(\"/content/data/*.csv\"):\n",
        "  f = open(fi)\n",
        "  for line in f:\n",
        "    fout.write(line)\n",
        "fout.close()"
      ],
      "execution_count": null,
      "outputs": []
    },
    {
      "cell_type": "code",
      "metadata": {
        "id": "T8-94usO6DJ7"
      },
      "source": [
        "from google.colab import files\n",
        "from glob import glob\n",
        "# download output images\n",
        "for p in glob('/content/data/output/*.jpg'):\n",
        "  files.download(p)\n",
        "  \n",
        "# download raw images\n",
        "for p in glob('/content/data/test_data_images/test_data_images/test/*.jpg'):\n",
        "  files.download(p)"
      ],
      "execution_count": null,
      "outputs": []
    },
    {
      "cell_type": "code",
      "metadata": {
        "id": "HkBc14xt6DNx"
      },
      "source": [
        "# create a dataframe for analysis purposes\n",
        "\n",
        "import pandas as pd\n",
        "df = pd.read_csv(\"/content/data/output/out.csv\")\n",
        "df.head()"
      ],
      "execution_count": null,
      "outputs": []
    },
    {
      "cell_type": "code",
      "metadata": {
        "id": "CF0LPqL06DRN"
      },
      "source": [
        "df[\"class\"].value_counts()"
      ],
      "execution_count": null,
      "outputs": []
    },
    {
      "cell_type": "code",
      "metadata": {
        "id": "5Xf9b6E06Zx5"
      },
      "source": [
        "#prediction on videos\n",
        "#!python drive/MyDrive/RetinanetTest/predict_vids/images_from_vids.py\n",
        "import cv2\n",
        "import os\n",
        "\n",
        "url='drive/MyDrive/RetinanetTest/predict_vids/test_vid2.mp4'\n",
        "!mkdir /content/video_data\n",
        "#url='https://drive.google.com/file/d/1fAi1mOf2xxEkZrnWJsFIAdC1l0pwp_M3/view?usp=sharing'\n",
        "# Opens the Video file\n",
        "cap= cv2.VideoCapture(url)\n",
        "if not cap.isOpened():\n",
        "  print('Failed to open video')\n",
        "i=0\n",
        "while(cap.isOpened()):\n",
        "    ret, frame = cap.read()\n",
        "    if ret == False:\n",
        "        break\n",
        "    if i%1 == 0:\n",
        "      cv2.imwrite('/content/video_data/test_img'+str(i)+'.jpg',frame)\n",
        "    #cv2.imshow('Image',frame)\n",
        "    i+=1\n",
        "    key=cv2.waitKey(50)\n",
        "    if i==400:\n",
        "        break\n",
        "cap.release()\n",
        "cv2.destroyAllWindows()\n",
        "\n"
      ],
      "execution_count": null,
      "outputs": []
    },
    {
      "cell_type": "code",
      "metadata": {
        "id": "QN2TtKLF1bHt"
      },
      "source": [
        "# generate prediction files\n",
        "\n",
        "!python /content/ije_retinanet/image_inference_write.py \\\n",
        "-i '/content/video_data/' \\\n",
        "-t 0.3 \\\n",
        "-m {inference_model} \\\n",
        "-o  /content/video_data/ \\\n",
        "-l /content/drive/MyDrive/RetinanetTest/images_subset/classes.csv"
      ],
      "execution_count": null,
      "outputs": []
    },
    {
      "cell_type": "code",
      "metadata": {
        "id": "XEAwsXdD1bKF"
      },
      "source": [
        "# create output directory where you want to save images with bounding boxes\n",
        "\n",
        "# generate detections on images\n",
        "!mkdir /content/video_data/output\n",
        "\n",
        "!python /content/ije_retinanet/image_inference_print.py \\\n",
        "-i /content/video_data/ \\\n",
        "-t 0.3 \\\n",
        "-m  {inference_model} \\\n",
        "-o /content/video_data/output/"
      ],
      "execution_count": null,
      "outputs": []
    },
    {
      "cell_type": "code",
      "metadata": {
        "id": "s2-K8ix91bMs"
      },
      "source": [
        "#!python drive/MyDrive/RetinanetTest/predict_vids/output/vid_from_images.py\n",
        "import cv2\n",
        "import numpy as np\n",
        "import glob\n",
        " \n",
        "img_array = []\n",
        "url='/content/video_data/output'\n",
        "for filename in sorted(glob.glob(url+'/*.jpg')):\n",
        "    img = cv2.imread(filename)\n",
        "    height, width, layers = img.shape\n",
        "    size = (width,height)\n",
        "    img_array.append(img)\n",
        "\n",
        "!mkdir /content/video_data/predicted\n",
        "\n",
        "out = cv2.VideoWriter('/content/video_data/predicted/predicted.mp4',cv2.VideoWriter_fourcc(*'DIVX'), 15, size)\n",
        " \n",
        "for i in range(len(img_array)):\n",
        "    out.write(img_array[i])\n",
        "out.release()\n"
      ],
      "execution_count": null,
      "outputs": []
    }
  ]
}